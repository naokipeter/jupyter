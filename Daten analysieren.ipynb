{
 "cells": [
  {
   "cell_type": "markdown",
   "id": "3d1b0715-83ec-44c0-b83a-ac47e4f1a2c8",
   "metadata": {},
   "source": [
    "# Lernaufgabe: Daten analysieren mit JupyterLab"
   ]
  },
  {
   "cell_type": "markdown",
   "id": "0e29809f-951d-41b7-b145-b482a0e8379c",
   "metadata": {},
   "source": [
    "In diesem Jupyter Notebook lernen wir das Datenvisualisierungs-Paket **Seaborn** kennen. Als erstes importieren wir Seaborn über das Schlüsselwort `import`. Um den Tippaufwand beim Ausführen von Befehlen zu reduzieren, verwenden wir das Kürzel `sns` an Stelle von `seaborn`."
   ]
  },
  {
   "cell_type": "code",
   "execution_count": 1,
   "id": "955af8b5-7fb6-4f41-82d3-640c20f8c735",
   "metadata": {},
   "outputs": [],
   "source": [
    "import seaborn as sns"
   ]
  },
  {
   "cell_type": "markdown",
   "id": "6b53a206-0d8c-4844-b71d-0f3a345c58c1",
   "metadata": {},
   "source": [
    "In dieser Lernaufgabe analysieren wir den Datensatz [`tips.csv`](https://www.kaggle.com/jsphyg/tipping/version/1). Er enthält Informationen über Trinkgeld (englisch *tips*), das ein Kellner während mehreren Monaten von Restaurantgästen erhalten hat.\n",
    "\n",
    "![Kellner](bilder/waiter.jpg)\n",
    "\n",
    "Als erstes lesen wir also diesen Datensatz ein. Dazu verwenden wir den Seaborn-Befehl `load_data`. Der eingelesenen Datensatz weisen wir der Variablen `tips` zu."
   ]
  },
  {
   "cell_type": "code",
   "execution_count": 2,
   "id": "34a8902f-00a6-40e8-a91e-45a3424b4348",
   "metadata": {},
   "outputs": [],
   "source": [
    "tips = sns.load_dataset('tips')"
   ]
  },
  {
   "cell_type": "markdown",
   "id": "b4877421-37b0-4c71-bee9-2ca2dd265a42",
   "metadata": {},
   "source": [
    "## Teil 1: Fragen stellen\n",
    "\n",
    "### Aufgabe 1: Was für Spalten enthält der Datensatz `tips`?\n",
    "\n",
    "Häufig möchten wir als aller erstes wissen, was für Werte in den Spalten des zu analysierenden Datensatzes enthalten sind. Bei sehr grossen Datensätzen kann das Öffnen eines Datensatzes in einem Programm wie Excel aber recht lange dauern. Deswegen können wir in JupyterLab einfach die ersten oder letzten fünf Zeilen eines Datensatzes ausgeben lassen. Dazu geben wir einfach die Variable des Datensatzes (in diesem Fall `tips`) gefolgt vom Befehl `head()` (englisch *Kopf*) oder `tail()` (englisch *Schwanz*) in eine Code-Zelle ein und führen sie dann mit der Tastenkombination `Shift+Enter` aus.\n",
    "\n",
    "Was sind die Datentypen der Werte, die in den verschiedenen Spalten abgespeichert sind?"
   ]
  },
  {
   "cell_type": "code",
   "execution_count": 5,
   "id": "ee873c50-ac1a-40d2-b92b-e4775450f238",
   "metadata": {},
   "outputs": [],
   "source": [
    "# Schreiben Sie Ihren Code in diese Zelle"
   ]
  },
  {
   "cell_type": "markdown",
   "id": "6bdee35d-f54c-435b-ad85-9329cf96293d",
   "metadata": {},
   "source": [
    "**Antwort**: *Hier kommt ihr Antwortsatz hin*"
   ]
  },
  {
   "cell_type": "markdown",
   "id": "fde14bc3-0e85-4032-a6c4-983264737530",
   "metadata": {},
   "source": [
    "### Aufgabe 2: Was ist Markdown?\n",
    "\n",
    "In der Werkzeugleiste von JupyterLab befindet sich ein Dropdown, womit man den Typ einer Zelle einstellen kann. Die zwei häufigsten Zellentypen sind `Code` und `Markdown`. Während man Code-Zellen mit ausführbarem Python-Code füllen kann, enthalten Markdown-Zellen Texte.\n",
    "\n",
    "Der Text in Markdown-Zellen kann auf unterschiedliche Art und Weise formatiert werden. Ihnen dürfte aber bereits aufgefallen sein, dass es in einem Jupyter Notebook dafür keine Register mit Schaltflächen wie z.B. in Microsoft Word gibt (siehe Abbildung unten).\n",
    "\n",
    "![Schaltflächen in MS Word](bilder/word.png)\n",
    "\n",
    "Stattdessen wird der Text mit Hilfe einer sogenannten Auszeichnungssprache namens **Markdown** formatiert. Um in einem Jupyter-Notebook eine Zelle mit Markdown zu formatieren, müssen wir in den sogenannten *Editiermodus* wechseln. Dazu machen wir einen Doppelklick auf die entsprechende Zelle. Probieren Sie es gleich mit dieser Zelle aus. \n",
    "\n",
    "Um beispielsweise das Wort Markdown wie im vorherigen Satz fett zu formatieren, wird es im Editiermodus zwischen je zwei Sternchensymbole notiert: `**Markdown**`. Für kursiv formatierten Text wird hingegen links und rechts nur ein Sternchensymbol verwendet.\n",
    "\n",
    "Um den Editiermodus zu verlassen, klicken Sie entweder auf die Play-Schaltfläche (▶️) oben oder verwenden wiederum die Tastaturkombination `Shift+Enter`.\n",
    "\n",
    "Eine vollständige Referenz der Markdown-Syntax finden Sie unter [Markdown Guide](https://www.markdownguide.org/basic-syntax/) (<- Achtung: das ist ein Link).\n",
    "\n",
    "Formatieren Sie unten die Spaltennamen des Datensatzes als ungeordnete Markdown-Liste (englisch *unordered list*)."
   ]
  },
  {
   "cell_type": "markdown",
   "id": "14570ee9-b1bc-4be7-9485-aa39959092c2",
   "metadata": {},
   "source": [
    "`Hier Liste einfügen`"
   ]
  },
  {
   "cell_type": "markdown",
   "id": "28d9ede2-f663-4c03-b2f0-1924080f76de",
   "metadata": {},
   "source": [
    "### Aufgabe 3: An welchen Wochentagen hat der Kellner Trinkgeld bekommen?\n",
    "\n",
    "Grosse Datensätzen haben oft sehr viele Zeilen und Spalten. Um sich einen Überblick über alle vorhandenen Werte in einer bestimmten Spalte zu erhalten, gibt es in Seaborn den Befehl `unique()` (englisch *eindeutig*). Mit `tips.time.unique()` können wir beispielsweise herausfinden, wie viel verschiedene eindeutige Werte in der Spalte `time` vorkommen. Jeder Wert wird dabei nur ein Mal aufgelistet.\n",
    "\n",
    "Finden Sie heraus, an was für **Wochentagen** der Kellner Trinkgeld bekommen hat."
   ]
  },
  {
   "cell_type": "code",
   "execution_count": null,
   "id": "a31eddc3-2557-4d59-a0d9-9ef95b2db23f",
   "metadata": {},
   "outputs": [],
   "source": []
  },
  {
   "cell_type": "markdown",
   "id": "ab5aa0b3-1bdb-46f7-98a8-c473340d0d43",
   "metadata": {},
   "source": [
    "**Antwort**: "
   ]
  },
  {
   "cell_type": "markdown",
   "id": "0becac8b-568c-40e4-b71b-4557c1d055a8",
   "metadata": {},
   "source": [
    "### Aufgabe 4: Wie viele Mittagessen und Abendessen sind im Datensatz enthalten?"
   ]
  },
  {
   "cell_type": "markdown",
   "id": "7466ee14-480b-4823-a18c-673b6c4b0957",
   "metadata": {},
   "source": [
    "Jede Zeile in unserem Datensatz enthält in der Spalte `time` die Art der Mahlzeit (`lunch` oder `dinner`). Über den Seaborn-Befehl `value_counts()` (englisch *Anzahl Werte*) können wir nicht nur herausfinden, was für eindeutige Werte eine Spalte enthält, sondern auch, wie viele Zeilen einen bestimmten Wert haben.\n",
    "\n",
    "Finden Sie heraus, an wie vielen Mittagessen und Abendessen der Kellner Trinkgeld erhalten hat."
   ]
  },
  {
   "cell_type": "code",
   "execution_count": null,
   "id": "b9219b0d-04da-42a7-8190-b6ee317008fe",
   "metadata": {},
   "outputs": [],
   "source": []
  },
  {
   "cell_type": "markdown",
   "id": "c3053b05-4f78-473b-a685-e809f42e7bf0",
   "metadata": {},
   "source": [
    "**Antwort**:"
   ]
  },
  {
   "cell_type": "markdown",
   "id": "ce0fbd78-4119-4d7d-96d4-8583acd06264",
   "metadata": {},
   "source": [
    "### Aufgabe 5: Was ist der *relative* Anteil von Mittag- und Abendessen im Datensatz in Prozent?"
   ]
  },
  {
   "cell_type": "markdown",
   "id": "0704b155-1c67-402c-8abb-f8b460422143",
   "metadata": {},
   "source": [
    "Um den relativen Anteil von Mittag- und Abendessen auszugeben muss man dem Befehl `value_counts()` das Schlüsselwort-Argument `normalize=True` (englisch *normalisieren=Wahr*) mitgeben. Beachten Sie die Gross- und Kleinschreibung.\n",
    "> **Exkurs: Schlüsselwort-Argumente** in Python enthalten neben dem Argument (rechts vom Gleichheitszeichen) auch den Namen des Parameters, an den das Argument im Befehl zugewiesen wird (links vom Gleichheitszeichen). Im Gegensatz zu normalen (positionalen) Argumenten spielt beim Aufruf die Reihenfolge der Argumente keine Rolle, da sie ja den Namen des Parameters mitführen.\n",
    "```python\n",
    "def tu_was(param1, param2):\n",
    "    print(param1, \"und\", param2)\n",
    "    \n",
    "tu_was(\"a\", \"b\")               # Positionale Argumente (Reihenfolge der Argumente ist relevant)\n",
    "tu_was(param2=\"b\", param1=\"a\") # Schlüsselwort-Argumente (Reihenfolge der Argumente ist egal)\n",
    "```"
   ]
  },
  {
   "cell_type": "code",
   "execution_count": null,
   "id": "467355aa-ca8b-4924-a2e2-773101552cd0",
   "metadata": {},
   "outputs": [],
   "source": []
  },
  {
   "cell_type": "markdown",
   "id": "284e9575-d60c-4fe0-96a8-b9dfa5a5e4e4",
   "metadata": {},
   "source": [
    "**Antwort:**"
   ]
  },
  {
   "cell_type": "markdown",
   "id": "04a254c9-d8e5-4cac-9549-6eded6a229b0",
   "metadata": {},
   "source": [
    "### Aufgabe 6: Wie hoch ist das durchschnittliche Trinkgeld?\n",
    "\n",
    "Um das durchschnittliche Trinkgeld über alle Zeilen zu erhalten, wählen im Datensatz die Spalte `tip` und rufe darauf den Befehl `mean()` (englisch `Mittelwert`) auf."
   ]
  },
  {
   "cell_type": "code",
   "execution_count": null,
   "id": "89cade91-7bd7-48cd-9c65-eb755b0f8038",
   "metadata": {},
   "outputs": [],
   "source": []
  },
  {
   "cell_type": "markdown",
   "id": "2057a3a2-231f-4b9e-b843-d333f0d63ebf",
   "metadata": {},
   "source": [
    "**Antwort:**"
   ]
  },
  {
   "cell_type": "markdown",
   "id": "b31ece7b-a609-4c5e-b701-9f5e2b5d986d",
   "metadata": {
    "tags": []
   },
   "source": [
    "## Teil 2: Diagramme zeichnen\n",
    "\n",
    "### Aufgabe 5: Wie visualisiere ich die Häufigkeit von Mittag- und Abendessen in einem Säulendiagramm?"
   ]
  },
  {
   "cell_type": "markdown",
   "id": "cbd0132a-1740-4ed3-8801-ac7d483e8953",
   "metadata": {},
   "source": [
    "Um die Häufigkeit von Werten in einer Spalte als Säulendiagramm zu visualisieren, verwenden wir den `plot()`-Befehl. Diesen hängt man mit einem vorangestellten Punkt `.` an den Befehl, dessen Ausgabe man visualisieren möchte.\n",
    "\n",
    "Visualisieren Sie die Häufigkeit von Mittag- und Abendessen als Säulendiagramm. Dazu müssen Sie dem Befehl das Schlüsselwort-Argument `kind='bar'` mitgeben."
   ]
  },
  {
   "cell_type": "code",
   "execution_count": null,
   "id": "2da54978-377f-4700-98af-b333b3af03c2",
   "metadata": {},
   "outputs": [],
   "source": []
  },
  {
   "cell_type": "markdown",
   "id": "495975d6-6fb0-42b5-bb9e-6877bda0cecf",
   "metadata": {},
   "source": [
    "### Aufgabe 6: Wie visualisiere ich die *relative* Häufigkeit von Mittag- und Abendessen in einem Säulendiagramm?"
   ]
  },
  {
   "cell_type": "markdown",
   "id": "c44a9207-1b97-4329-a460-b8277c59ba8a",
   "metadata": {},
   "source": [
    "Erstellen Sie nun ein Säulendiagramm mit den *relativen* Anteilen von Mittag- und Abendessen."
   ]
  },
  {
   "cell_type": "code",
   "execution_count": null,
   "id": "665f686f-ce03-49a4-a35d-ba8eccb19607",
   "metadata": {},
   "outputs": [],
   "source": []
  },
  {
   "cell_type": "markdown",
   "id": "4823baac-73c2-42a9-853d-976e52a45ace",
   "metadata": {},
   "source": [
    "### Aufgabe 8: Wie visulaierire ich den Zusammenhang zwischen der Höhe der Rechnung und der Höhe des Trinkgelds?"
   ]
  },
  {
   "cell_type": "markdown",
   "id": "8b1d7da5-7a97-4c5c-b8ec-aacae9322d05",
   "metadata": {},
   "source": [
    "Als nächstes fragen wir uns, ob Leute, die eine höhere Rechnung zahlen, tendenziell auch mehr Trinkgeld geben. Dazu zeichnen wir jede Reihe in unserem Datensatz als einen Punkt in ein zweidimensionalen Koordinatensystem ein. Die x-Achse enstpricht dem Rechnungsbetrag (`total_bill`) und die y-Achse dem Trinkgeld (`tip`). Ein solches Diagramm nennt man **Streudiagramm**.\n",
    "\n",
    "![Ein Streudiagramm](bilder/scatterplot.png)\n",
    "\n",
    "Suchen Sie in der [Seaborn-Dokumentation](https://seaborn.pydata.org/api.html) einen passenden Befehl."
   ]
  },
  {
   "cell_type": "code",
   "execution_count": 4,
   "id": "27b665c0-58b2-489a-ac4b-bdd3142fb67e",
   "metadata": {},
   "outputs": [
    {
     "data": {
      "text/plain": [
       "<AxesSubplot:xlabel='total_bill', ylabel='tip'>"
      ]
     },
     "execution_count": 4,
     "metadata": {},
     "output_type": "execute_result"
    },
    {
     "data": {
      "image/png": "[encoded data removed]",
      "text/plain": [
       "<Figure size 432x288 with 1 Axes>"
      ]
     },
     "metadata": {
      "needs_background": "light"
     },
     "output_type": "display_data"
    }
   ],
   "source": [
    "sns.scatterplot(x='total_bill', y='tip', data=tips, hue='sex')"
   ]
  },
  {
   "cell_type": "markdown",
   "id": "fa9c9d8b-2b50-4a4e-8b49-c417a7607b08",
   "metadata": {},
   "source": [
    "* Was sehen Sie für einen Zusammenhang zwischen der Höhe der Rechnung und der Höhe des Trinkgelds?\n",
    "* In welchem Bereich des Diagramms findet man die (gemessen an der Höhe der Rechnung) besonders grosszügingen Restaurantbesucher:innen?\n",
    "* In welchem Bereich des Diagramms findet man (gemessen an der Höhe der Rechnung) die besonders knausrigen Restaurantbesucher:innen?"
   ]
  },
  {
   "cell_type": "markdown",
   "id": "57ea045d-5643-4399-a7e1-6e8e0f774de7",
   "metadata": {},
   "source": [
    "**Antwort:**"
   ]
  },
  {
   "cell_type": "markdown",
   "id": "24c50265-0338-4cf5-bc8d-672ffea14163",
   "metadata": {},
   "source": [
    "### Aufgabe 9: Wie visualisiere ich die Verteilung des Trinkgelds in einem Balkendiagramm?\n",
    "\n",
    "Die x-Achse steht für die Höhe des Trinkgelds, während die y-Achse für die Anzahl Trinkgelder steht, die man in einem bestimmten Intervall (z.B. zwischen CHF 1 und CHF 2) erhalten aht. Konsultieren Sie die [Seaborn-Dokumentation](https://seaborn.pydata.org/api.html). Tipp: Das englische Wort für \"Verteilung\" ist *distribution*."
   ]
  },
  {
   "cell_type": "code",
   "execution_count": null,
   "id": "5d34229d-d34c-44f2-81f6-1d0a9cf69f7c",
   "metadata": {},
   "outputs": [],
   "source": []
  },
  {
   "cell_type": "code",
   "execution_count": null,
   "id": "fef6d838-cd27-4541-8934-03892201c78e",
   "metadata": {},
   "outputs": [],
   "source": []
  }
 ],
 "metadata": {
  "kernelspec": {
   "display_name": "Python 3 (ipykernel)",
   "language": "python",
   "name": "python3"
  },
  "language_info": {
   "codemirror_mode": {
    "name": "ipython",
    "version": 3
   },
   "file_extension": ".py",
   "mimetype": "text/x-python",
   "name": "python",
   "nbconvert_exporter": "python",
   "pygments_lexer": "ipython3",
   "version": "3.9.9"
  }
 },
 "nbformat": 4,
 "nbformat_minor": 5
}
